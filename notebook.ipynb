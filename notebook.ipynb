{
 "cells": [
  {
   "cell_type": "code",
   "execution_count": 4,
   "metadata": {},
   "outputs": [],
   "source": [
    "from df2gspread import df2gspread as d2g\n",
    "import os\n",
    "import pandas as pd\n",
    "from scripts import get_data"
   ]
  },
  {
   "cell_type": "code",
   "execution_count": 2,
   "metadata": {},
   "outputs": [],
   "source": [
    "dfs = []\n",
    "\n",
    "for filename in os.listdir(\"./epubs\"):\n",
    "    if filename.endswith(\".epub\"):\n",
    "        df = get_data(filename)\n",
    "        dfs.append(df)"
   ]
  },
  {
   "cell_type": "code",
   "execution_count": 11,
   "metadata": {},
   "outputs": [],
   "source": [
    "for i, df in enumerate(dfs):\n",
    "    spreadsheet = '/LNs/instant-death-tracker'\n",
    "    worksheet = f'Volume {str(i+1)}'\n",
    "    d2g.upload(df, spreadsheet, worksheet)"
   ]
  },
  {
   "cell_type": "code",
   "execution_count": 1,
   "metadata": {},
   "outputs": [],
   "source": [
    "from scripts import chapters_to_dict, get_chapters"
   ]
  },
  {
   "cell_type": "code",
   "execution_count": 5,
   "metadata": {},
   "outputs": [],
   "source": [
    "chapters = get_chapters('my-instant-death-ability-is-so-overpowered-no-one-in-this-other-world-stands-a-chance-against-me-volume-1.epub')\n",
    "texts = chapters_to_dict(chapters)"
   ]
  },
  {
   "cell_type": "code",
   "execution_count": 12,
   "metadata": {},
   "outputs": [],
   "source": [
    "from bs4 import BeautifulSoup"
   ]
  },
  {
   "cell_type": "code",
   "execution_count": 17,
   "metadata": {},
   "outputs": [],
   "source": [
    "def chapter_to_str(chapter):\n",
    "    soup = BeautifulSoup(chapter.get_body_content(), 'html.parser')\n",
    "    text = [paragraph.get_text() for paragraph in soup.find_all('p')]\n",
    "    \n",
    "    return soup.text.replace('\\n', ' ').strip()\n",
    "    return ' '.join(text)"
   ]
  },
  {
   "cell_type": "code",
   "execution_count": 18,
   "metadata": {},
   "outputs": [
    {
     "data": {
      "text/plain": [
       "'Chapter 1 — Die Yogiri Takatou awoke to the sound of shouting right beside him. Turning bleary eyes towards the voice, he found a girl with disheveled hair shaking his shoulders. “Who are you again?” A strange feeling came over him. He was in the middle of a school trip, on a sightseeing bus. Since he was sitting by the window at the very back of the bus, there should only have been other guys around him. “Tomochika Dannoura!” the girl shouted desperately. It was one of his classmates, he finally remembered. He couldn’t recall most of their names, but hers was a bit strange, so it had left something of an impression on him. “Ah, Dannoura. Did we arrive already?” he asked, rubbing the sleep from his eyes. Their bus was heading to a ski resort in Nagano. It was kind of odd for Tomochika to be the one waking him up as they had never spoken to each other before, but it was about the right time for them to have arrived. “No, no! I just didn’t know what to do!” “I have no idea what you’re talking about.” “How could you possibly sleep through everything that just happened?!” Wondering what she meant by that, Yogiri looked down the aisle of the bus. The view before him had been twisted. The frame of the bus they were in had been crushed, and a white object of some sort had punched through the side of the vehicle, impaling one of the boys in his class. “Ahh. Yeah, that’s a hell of a mess, isn’t it?” Satisfied that he had confirmed the source of Tomochika’s hysteria, Yogiri continued to survey the scene. A number of holes were visible in the roof and walls of the deformed bus. A girl was lying in the aisle between the seats, covered in blood. Judging from the large hole in her chest, it was safe to say she was dead. The rest of the bus was empty, so the other students had probably already fled. Aside from the two of them, the only living person left was the impaled guy, but that probably wouldn’t last for long. The object protruding from him looked like some sort of spear — white with a number of thin spikes on it. But it couldn’t be something so inorganic. It was writhing. With the way it trembled slightly, stretching and recoiling, it had to be part of some sort of creature. As far as what that creature might be, Yogiri didn’t know of any animal with such an enormous, unsightly appendage. “What’s going on here?” “I don’t know! How would I know?!” Apparently, Tomochika was upset. Yogiri looked out the window. Some sort of enormous, scaled creature had wrapped itself around the bus. “A snake? No, probably more like a lizard?” In any case, it was kind of gross. Picking up a karaoke microphone from the floor by his feet, Yogiri threw it at the spear-like appendage. The moment the microphone struck, a terrible screeching sound filled the air. The spear-thing quickly withdrew from the bus, dropping its captive to the floor. As the startled, enormous creature distanced itself from the vehicle, Yogiri was finally able to get a good look at its entire body. “Oh, it’s a wyvern?” A type of dragon, walking on two legs and with enormous wings. The appendage in question was situated between its legs, meaning it was likely the creature’s genitals. As hard as it was to believe that an aroused dragon had attacked them, which is what the evidence seemed to point to, what they saw outside of the window was even more shocking. All around them stretched nothing but bright grassland. “Wasn’t it night when I went to sleep? And wasn’t there snow everywhere?” “Who cares?! What if you just made it angry?!” Tomochika shouted, shaking Yogiri back and forth by his neck. With his now shaky vision, he noticed something out of the corner of his eye. The dragon was glaring at them. As if its rage were taking physical form, flames began to leak from its mouth. “Ah!” Yogiri blurted out, perking up with excitement. “What? Did you find a way to get us out of this?!” Tomochika said, her eyes suddenly filling with hope. “What? No, I was just thinking...I guess this is what dragon car sex looks like.” “What are you talking about?!” Dragon car sex was a fairly unique but very real fetish. Yogiri opened his mouth to explain that, but before he could speak, the situation had already changed. The wyvern roared. With a flap of its wings, the comically large creature lifted itself into the air and swooped straight down towards them. “Well, this is a problem.” The seats and walls around them were warped, and the already narrow walkway was littered with corpses. Getting out in time seemed improbable. I guess that’s how it goes, Yogiri thought to himself. This was the way his life would end. His attachment to it was pretty thin anyway. “No, I can’t take it anymore!” As Yogiri calmly gave in to his fate, Tomochika wrapped herself tightly around him. As her rather significant chest pressed into him, something changed. Well, this isn’t such a bad feeling. No matter how antisocial he was, he was still a man. In a situation like this, even he couldn’t help but develop a sort of urge to protect her. As such, he decided to use that power, though he had told himself he never would. “Die.” With his target in his sights, Yogiri unleashed his ability. The dragon’s wings instantly stopped moving and it spiraled downwards into the grass. The force of the impact threw dirt and debris up into the air as its enormous body slid across the ground. The bus shook as the monster struck the side of it, although the friction from the slide had slowed it down and weakened the impact. Yogiri barely felt it. “So, what do we do now?” The danger seemed to have passed for the moment, but the situation they were in was still as bizarre as ever. “We’re safe, by the way, Dannoura.” “Really...?” She continued to cling to him for a while, but when nothing more seemed to be happening, she timidly raised her head and stepped back. “What? But...why? What even happened?” she said, her expression dumbstruck as she looked out the window. “That’s kind of what I want to ask, but there’s no point while you’re so flustered. We can talk after you’ve calmed down.” In deciding what they should do next, he would need to know the details of their current situation. For that, he would need her help. So until she had relaxed a bit, he figured he might as well wait. Pulling out a portable game console from his bag, he switched it on. It was a fairly popular hunting game, but Yogiri himself had only started it recently. “Are you actually playing Monster Hunter right now?! Seriously?!” In spite of her obvious shock, Tomochika was unexpectedly composed. Maybe she’d be ready to talk sooner than he thought.'"
      ]
     },
     "execution_count": 18,
     "metadata": {},
     "output_type": "execute_result"
    }
   ],
   "source": [
    "chapter_to_str(chapters[0])"
   ]
  },
  {
   "cell_type": "code",
   "execution_count": null,
   "metadata": {},
   "outputs": [],
   "source": []
  }
 ],
 "metadata": {
  "kernelspec": {
   "display_name": "projects",
   "language": "python",
   "name": "projects"
  },
  "language_info": {
   "codemirror_mode": {
    "name": "ipython",
    "version": 3
   },
   "file_extension": ".py",
   "mimetype": "text/x-python",
   "name": "python",
   "nbconvert_exporter": "python",
   "pygments_lexer": "ipython3",
   "version": "3.8.8"
  }
 },
 "nbformat": 4,
 "nbformat_minor": 4
}
