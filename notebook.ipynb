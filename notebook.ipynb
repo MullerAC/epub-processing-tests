{
 "cells": [
  {
   "cell_type": "code",
   "execution_count": 1,
   "metadata": {},
   "outputs": [],
   "source": [
    "from df2gspread import df2gspread as d2g\n",
    "import os\n",
    "import pandas as pd\n",
    "from scripts import get_data"
   ]
  },
  {
   "cell_type": "code",
   "execution_count": 2,
   "metadata": {},
   "outputs": [],
   "source": [
    "nouns = {1:['Yuuichirou|Kiryuu', 'Ryousuke|Higashida', 'Yoshiaki|Fukuhara', 'Santarou', 'Darkness',\n",
    "            'Lain', 'Yumehisa', 'Mireiyu', 'Masayuki', 'Yuuki|Tachibana', 'Erika', 'Riza'],\n",
    "         2:['Rikuto|Saitou', 'Atila', 'Swordmaster', 'Teresa', 'Eglacia','Masaki|Kazuno', 'Shiro',\n",
    "            'Geralda', 'Ema', 'Albagarna', 'Vahanato', 'Orgain'],\n",
    "         3:['Yukio|Shiraishi', 'Foundation Eater|Arganda Emperor', 'Shinya|Ushio', 'Takaoka', 'Judge', 'Executor|Executors'],\n",
    "         4:['Ayaka|Shinozaki', 'Romiko|Jougasaki', 'Sion', 'Suguru|Yazaki', 'Asuha|Kouriyama', 'Lute', 'King of Manii',\n",
    "            'Mana', 'Holaris', 'Sora|Akino', 'Yuugo|Izumida', 'Yukimasa|Aihara', 'Seiichi|Fukai', 'Keiichi|Munakata',\n",
    "            'Mitsuo|Yatate', 'Yui|Ootani', 'Runa|Harufuji', 'Osamu|Arima', 'Masahiro|Abukawa', 'Riona|Shirayama',\n",
    "            'Ryousuke|Miyanaga', 'Akari|Misono', 'Elysium', 'King of Spirits', 'Yama', 'Fenrir', 'Kiyoko Takekura',\n",
    "            'Jiyuna|Shijou', 'Mei|Hanamiya', 'Black Cat', 'White Cat', 'Earth King', 'Tiannu']}"
   ]
  },
  {
   "cell_type": "code",
   "execution_count": 3,
   "metadata": {},
   "outputs": [],
   "source": [
    "dfs = []\n",
    "n = 1\n",
    "\n",
    "for filename in os.listdir(\"./epubs\"):\n",
    "    if filename.endswith(\".epub\"):\n",
    "        df = get_data(filename, nouns[n])\n",
    "        dfs.append(df)\n",
    "        n += 1"
   ]
  },
  {
   "cell_type": "code",
   "execution_count": 4,
   "metadata": {},
   "outputs": [],
   "source": [
    "for i, df in enumerate(dfs):\n",
    "    spreadsheet = '/LNs/instant-death-tracker'\n",
    "    worksheet = f'Volume {str(i+1)}'\n",
    "    d2g.upload(df, spreadsheet, worksheet)"
   ]
  },
  {
   "cell_type": "code",
   "execution_count": null,
   "metadata": {},
   "outputs": [],
   "source": []
  },
  {
   "cell_type": "code",
   "execution_count": null,
   "metadata": {},
   "outputs": [],
   "source": []
  },
  {
   "cell_type": "code",
   "execution_count": null,
   "metadata": {},
   "outputs": [],
   "source": [
    "from scripts import chapters_to_dict, get_chapters"
   ]
  },
  {
   "cell_type": "code",
   "execution_count": null,
   "metadata": {},
   "outputs": [],
   "source": [
    "chapters = get_chapters('my-instant-death-ability-is-so-overpowered-no-one-in-this-other-world-stands-a-chance-against-me-volume-1.epub')\n",
    "texts = chapters_to_dict(chapters)"
   ]
  },
  {
   "cell_type": "code",
   "execution_count": null,
   "metadata": {},
   "outputs": [],
   "source": [
    "from scripts import find_all"
   ]
  },
  {
   "cell_type": "code",
   "execution_count": null,
   "metadata": {},
   "outputs": [],
   "source": [
    "all_pos = find_all(nouns[1][0].split('|'), texts)"
   ]
  },
  {
   "cell_type": "code",
   "execution_count": null,
   "metadata": {},
   "outputs": [],
   "source": [
    "all_pos"
   ]
  },
  {
   "cell_type": "code",
   "execution_count": null,
   "metadata": {},
   "outputs": [],
   "source": []
  }
 ],
 "metadata": {
  "kernelspec": {
   "display_name": "projects",
   "language": "python",
   "name": "projects"
  },
  "language_info": {
   "codemirror_mode": {
    "name": "ipython",
    "version": 3
   },
   "file_extension": ".py",
   "mimetype": "text/x-python",
   "name": "python",
   "nbconvert_exporter": "python",
   "pygments_lexer": "ipython3",
   "version": "3.8.8"
  }
 },
 "nbformat": 4,
 "nbformat_minor": 4
}
