{
 "cells": [
  {
   "cell_type": "code",
   "execution_count": null,
   "metadata": {},
   "outputs": [],
   "source": [
    "from df2gspread import df2gspread as d2g\n",
    "import os\n",
    "import pandas as pd\n",
    "from scripts import get_data"
   ]
  },
  {
   "cell_type": "code",
   "execution_count": null,
   "metadata": {},
   "outputs": [],
   "source": [
    "nouns = {1:['Yuuichirou|Kiryuu', 'Ryousuke|Higashida', 'Yoshiaki|Fukuhara', 'Santarou', 'Darkness',\n",
    "            'Lain', 'Yumehisa', 'Mireiyu', 'Masayuki', 'Yuuki|Tachibana', 'Erika', 'Riza'],\n",
    "         2:['Rikuto|Saitou', 'Atila', 'Swordmaster', 'Teresa', 'Eglacia','Masaki|Kazuno', 'Shiro',\n",
    "            'Geralda', 'Ema', 'Albagarna', 'Vahanato', 'Orgain'],\n",
    "         3:['Yukio|Shiraishi', 'Foundation Eater|Arganda Emperor', 'Shinya|Ushio', 'Takaoka', 'Judge', 'Executor|Executors'],\n",
    "         4:['Ayaka|Shinozaki', 'Romiko|Jougasaki', 'Sion', 'Suguru|Yazaki', 'Asuha|Kouriyama', 'Lute', 'King of Manii',\n",
    "            'Mana', 'Holaris', 'Sora|Akino', 'Yuugo|Izumida', 'Yukimasa|Aihara', 'Seiichi|Fukai', 'Keiichi|Munakata',\n",
    "            'Mitsuo|Yatate', 'Yui|Ootani', 'Runa|Harufuji', 'Osamu|Arima', 'Masahiro|Abukawa', 'Riona|Shirayama',\n",
    "            'Ryousuke|Miyanaga', 'Akari|Misono', 'Elysium', 'King of Spirits', 'Yama', 'Fenrir', 'Kiyoko Takekura',\n",
    "            'Jiyuna|Shijou', 'Mei|Hanamiya', 'Black Cat', 'White Cat', 'Earth King', 'Tiannu']}"
   ]
  },
  {
   "cell_type": "code",
   "execution_count": null,
   "metadata": {},
   "outputs": [],
   "source": [
    "dfs = []\n",
    "n = 1\n",
    "\n",
    "for filename in os.listdir(\"./epubs\"):\n",
    "    if filename.endswith(\".epub\"):\n",
    "        df = get_data(filename, nouns[n])\n",
    "        dfs.append(df)\n",
    "        n += 1"
   ]
  },
  {
   "cell_type": "code",
   "execution_count": null,
   "metadata": {},
   "outputs": [],
   "source": [
    "for i, df in enumerate(dfs):\n",
    "    spreadsheet = '/LNs/instant-death-tracker'\n",
    "    worksheet = f'Volume {str(i+1)}'\n",
    "    d2g.upload(df, spreadsheet, worksheet)"
   ]
  },
  {
   "cell_type": "code",
   "execution_count": null,
   "metadata": {},
   "outputs": [],
   "source": []
  },
  {
   "cell_type": "code",
   "execution_count": 1,
   "metadata": {},
   "outputs": [],
   "source": [
    "from scripts import chapters_to_dict, get_chapters, find_all_names"
   ]
  },
  {
   "cell_type": "code",
   "execution_count": 2,
   "metadata": {},
   "outputs": [],
   "source": [
    "chapters = get_chapters('my-instant-death-ability-is-so-overpowered-no-one-in-this-other-world-stands-a-chance-against-me-volume-1.epub')\n",
    "texts = chapters_to_dict(chapters)"
   ]
  },
  {
   "cell_type": "code",
   "execution_count": 3,
   "metadata": {
    "scrolled": true
   },
   "outputs": [
    {
     "name": "stdout",
     "output_type": "stream",
     "text": [
      "starting chapter 1 of 40\n",
      "starting chapter 2 of 40\n",
      "starting chapter 3 of 40\n",
      "starting chapter 4 of 40\n",
      "starting chapter 5 of 40\n",
      "starting chapter 6 of 40\n",
      "starting chapter 7 of 40\n",
      "starting chapter 8 of 40\n",
      "starting chapter 9 of 40\n",
      "starting chapter 10 of 40\n",
      "starting chapter 11 of 40\n",
      "starting chapter 12 of 40\n",
      "starting chapter 13 of 40\n",
      "starting chapter 14 of 40\n",
      "starting chapter 15 of 40\n",
      "starting chapter 16 of 40\n",
      "starting chapter 17 of 40\n",
      "starting chapter 18 of 40\n",
      "starting chapter 19 of 40\n",
      "starting chapter 20 of 40\n",
      "starting chapter 21 of 40\n",
      "starting chapter 22 of 40\n",
      "starting chapter 23 of 40\n",
      "starting chapter 24 of 40\n",
      "starting chapter 25 of 40\n",
      "starting chapter 26 of 40\n",
      "starting chapter 27 of 40\n",
      "starting chapter 28 of 40\n",
      "starting chapter 29 of 40\n",
      "starting chapter 30 of 40\n",
      "starting chapter 31 of 40\n",
      "starting chapter 32 of 40\n",
      "starting chapter 33 of 40\n",
      "starting chapter 34 of 40\n",
      "starting chapter 35 of 40\n",
      "starting chapter 36 of 40\n",
      "starting chapter 37 of 40\n",
      "starting chapter 38 of 40\n",
      "starting chapter 39 of 40\n",
      "starting chapter 40 of 40\n"
     ]
    }
   ],
   "source": [
    "names = find_all_names(texts, verbose=True, use_stanza=True)"
   ]
  },
  {
   "cell_type": "code",
   "execution_count": 5,
   "metadata": {},
   "outputs": [
    {
     "data": {
      "text/plain": [
       "117"
      ]
     },
     "execution_count": 5,
     "metadata": {},
     "output_type": "execute_result"
    }
   ],
   "source": [
    "len(names)"
   ]
  },
  {
   "cell_type": "code",
   "execution_count": 6,
   "metadata": {},
   "outputs": [
    {
     "data": {
      "text/plain": [
       "['Kiryuu',\n",
       " 'the Magi of the Kingdom of Iman',\n",
       " 'Jackie',\n",
       " 'the Beast King',\n",
       " 'Fukuhara',\n",
       " 'Morihei Ueshiba',\n",
       " 'Takatou',\n",
       " 'Romiko',\n",
       " 'Yogiri Takatou.',\n",
       " 'this Yogiri Takatou',\n",
       " 'Buuuut',\n",
       " 'Hero',\n",
       " 'Hanakawa',\n",
       " 'Ariel',\n",
       " 'Swordmasters',\n",
       " 'Chiharu',\n",
       " 'Dannoura',\n",
       " 'a Demon Lord',\n",
       " 'Lady Sion',\n",
       " 'Sion',\n",
       " 'Higashida',\n",
       " 'Noooooo',\n",
       " 'Zabora',\n",
       " 'Shirou',\n",
       " 'Yazaki',\n",
       " 'Ryouta Takahashi',\n",
       " 'Lain',\n",
       " 'Sage Lain',\n",
       " 'Carol',\n",
       " 'Santarou',\n",
       " 'Asuha',\n",
       " 'Wife of the son',\n",
       " 'Charm Up!',\n",
       " 'Yogiri Takatou',\n",
       " 'Asuha Kouriyama',\n",
       " 'Chiharu Dannoura',\n",
       " 'Asu',\n",
       " 'Carol S. Lane.',\n",
       " 'the Demon Lord',\n",
       " 'Erika',\n",
       " 'Nobunaga Oda',\n",
       " 'Jougasaki',\n",
       " 'Hellflame',\n",
       " 'Beastkin',\n",
       " 'Sage Sion',\n",
       " 'Ryouko Ninomiya',\n",
       " 'Geez',\n",
       " 'Masayuki',\n",
       " 'Ein',\n",
       " 'Aggro',\n",
       " 'Enchou Sanyuutei',\n",
       " 'Haruto',\n",
       " 'Daimon Hanakawa',\n",
       " 'Jorge',\n",
       " 'Fire Ball',\n",
       " 'Youichi',\n",
       " 'Ryouko',\n",
       " 'Suguru Yazaki',\n",
       " 'Kneel',\n",
       " 'Romiko Jougasaki',\n",
       " 'Demon Lords',\n",
       " 'Monster Hunter',\n",
       " 'Yumehisa',\n",
       " 'Mireiyu',\n",
       " 'Hedgehog',\n",
       " 'Chelsey',\n",
       " 'Clan',\n",
       " 'Aggressor',\n",
       " 'Heheheh',\n",
       " 'Gross',\n",
       " 'Captain Edelgart',\n",
       " 'Mokomoko',\n",
       " 'Stephanie',\n",
       " 'Dominator',\n",
       " 'Jennifer',\n",
       " 'Yuuki',\n",
       " 'Morurun',\n",
       " 'Rich',\n",
       " 'Iman',\n",
       " 'Hanabusa',\n",
       " 'Ryousuke Higashida',\n",
       " 'Tomochika Dannoura',\n",
       " 'Ayaka',\n",
       " 'Sage',\n",
       " 'Charm',\n",
       " 'Mikochi',\n",
       " 'Noooo',\n",
       " 'Ryouta',\n",
       " 'Grandpa',\n",
       " 'Mokomoko Dannoura',\n",
       " 'Ayaka Shinozaki',\n",
       " 'Masahiko',\n",
       " 'Stone',\n",
       " 'Georges',\n",
       " 'Tomochii',\n",
       " 'Edelgart',\n",
       " 'Sage Santarou',\n",
       " 'Riza',\n",
       " 'Celestina',\n",
       " 'Yuuki Tachibana',\n",
       " 'Tomochika',\n",
       " 'Tachibana',\n",
       " 'Wh-Wh',\n",
       " 'Mitsuki',\n",
       " 'Darkness',\n",
       " 'Alexia',\n",
       " 'Lance God',\n",
       " 'Assassin',\n",
       " 'Kuukai',\n",
       " 'Yogiri',\n",
       " 'Yoshiaki Fukuhara',\n",
       " 'Euphemia',\n",
       " 'Sages',\n",
       " 'Haruto Ootori',\n",
       " 'Lady Lain',\n",
       " 'the Queen of Undeath',\n",
       " 'Yuuichirou Kiryuu:']"
      ]
     },
     "execution_count": 6,
     "metadata": {},
     "output_type": "execute_result"
    }
   ],
   "source": [
    "names"
   ]
  },
  {
   "cell_type": "code",
   "execution_count": null,
   "metadata": {},
   "outputs": [],
   "source": []
  },
  {
   "cell_type": "markdown",
   "metadata": {},
   "source": [
    "## examples for blog post"
   ]
  },
  {
   "cell_type": "code",
   "execution_count": 1,
   "metadata": {},
   "outputs": [],
   "source": [
    "from df2gspread import df2gspread as d2g\n",
    "import numpy as np\n",
    "import pandas as pd"
   ]
  },
  {
   "cell_type": "code",
   "execution_count": 2,
   "metadata": {},
   "outputs": [],
   "source": [
    "dfs = []\n",
    "data = np.random.rand(3, 10, 5)\n",
    "\n",
    "for d in data:\n",
    "    df = pd.DataFrame(d)\n",
    "    dfs.append(df)"
   ]
  },
  {
   "cell_type": "code",
   "execution_count": 3,
   "metadata": {},
   "outputs": [],
   "source": [
    "file_name = '/example-project/example-spreadsheet'\n",
    "\n",
    "for i, df in enumerate(dfs):\n",
    "    sheet_name = f'example-sheet-{str(i+1)}'\n",
    "    d2g.upload(df, file_name, sheet_name)"
   ]
  },
  {
   "cell_type": "code",
   "execution_count": null,
   "metadata": {},
   "outputs": [],
   "source": []
  }
 ],
 "metadata": {
  "kernelspec": {
   "display_name": "projects",
   "language": "python",
   "name": "projects"
  },
  "language_info": {
   "codemirror_mode": {
    "name": "ipython",
    "version": 3
   },
   "file_extension": ".py",
   "mimetype": "text/x-python",
   "name": "python",
   "nbconvert_exporter": "python",
   "pygments_lexer": "ipython3",
   "version": "3.8.8"
  }
 },
 "nbformat": 4,
 "nbformat_minor": 4
}
