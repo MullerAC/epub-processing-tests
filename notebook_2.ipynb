{
 "cells": [
  {
   "cell_type": "code",
   "execution_count": 1,
   "metadata": {},
   "outputs": [],
   "source": [
    "from nltk import sent_tokenize, word_tokenize\n",
    "from nltk.tag import SennaNERTagger\n",
    "import string"
   ]
  },
  {
   "cell_type": "code",
   "execution_count": 8,
   "metadata": {},
   "outputs": [],
   "source": [
    "def find_names(text):\n",
    "    tagger = SennaNERTagger('C:/ProgramData/nltk_data/taggers/senna')\n",
    "    tags = [tagger.tag(word_tokenize(sent)) for sent in sent_tokenize(text)]\n",
    "    proper_nouns = list(filter(lambda x: x[1]!='O', [j for i in tags for j in i]))\n",
    "\n",
    "    with open('words.txt') as file:\n",
    "        words = set(line.strip().lower() for line in file)\n",
    "    \n",
    "    names = []\n",
    "    for noun, pos in proper_nouns:\n",
    "        name = noun.translate(str.maketrans('', '', string.punctuation)).lower()\n",
    "        if name != '' and name not in words:\n",
    "            names.append(noun)\n",
    "\n",
    "    return list(set(names))"
   ]
  },
  {
   "cell_type": "code",
   "execution_count": 11,
   "metadata": {},
   "outputs": [],
   "source": [
    "import scripts"
   ]
  },
  {
   "cell_type": "code",
   "execution_count": 9,
   "metadata": {},
   "outputs": [],
   "source": [
    "filename = 'my-instant-death-ability-is-so-overpowered-no-one-in-this-other-world-stands-a-chance-against-me-volume-1.epub'\n",
    "chapters = chapters_to_dict(get_chapters(filename))"
   ]
  },
  {
   "cell_type": "code",
   "execution_count": 10,
   "metadata": {},
   "outputs": [
    {
     "data": {
      "text/plain": [
       "['Yogiri', 'Dannoura.', 'Dannoura', 'Ahh', 'Tomochika', 'Takatou']"
      ]
     },
     "execution_count": 10,
     "metadata": {},
     "output_type": "execute_result"
    }
   ],
   "source": [
    "find_names(chapters[1])"
   ]
  },
  {
   "cell_type": "code",
   "execution_count": 12,
   "metadata": {},
   "outputs": [
    {
     "data": {
      "text/plain": [
       "['Yogiri', 'Dannoura', 'Ahh', 'Tomochika', 'Takatou']"
      ]
     },
     "execution_count": 12,
     "metadata": {},
     "output_type": "execute_result"
    }
   ],
   "source": [
    "scripts.find_names(chapters[1])"
   ]
  },
  {
   "cell_type": "code",
   "execution_count": null,
   "metadata": {},
   "outputs": [],
   "source": []
  }
 ],
 "metadata": {
  "kernelspec": {
   "display_name": "projects",
   "language": "python",
   "name": "projects"
  },
  "language_info": {
   "codemirror_mode": {
    "name": "ipython",
    "version": 3
   },
   "file_extension": ".py",
   "mimetype": "text/x-python",
   "name": "python",
   "nbconvert_exporter": "python",
   "pygments_lexer": "ipython3",
   "version": "3.8.8"
  }
 },
 "nbformat": 4,
 "nbformat_minor": 4
}
